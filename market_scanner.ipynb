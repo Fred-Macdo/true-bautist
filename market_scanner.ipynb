{
 "cells": [
  {
   "cell_type": "code",
   "execution_count": 1,
   "metadata": {},
   "outputs": [],
   "source": [
    "from stock.Scanner import MarketScanner\n",
    "import os\n",
    "from pathlib import Path\n",
    "import yaml\n",
    "import asyncio\n",
    "from alpaca.data.timeframe import TimeFrame, TimeFrameUnit\n",
    "from datetime import datetime, timedelta\n",
    "\n",
    "from alpaca.data.historical import StockHistoricalDataClient\n",
    "from alpaca.data.requests import StockBarsRequest, StockSnapshotRequest\n",
    "\n"
   ]
  },
  {
   "cell_type": "code",
   "execution_count": 2,
   "metadata": {},
   "outputs": [],
   "source": [
    "data_folder = Path('.\\\\config')\n",
    "yaml_file = 'api_keys.yaml'\n",
    "yaml_path = data_folder / yaml_file\n",
    "\n",
    "with open(yaml_path, 'r') as file:\n",
    "    yaml_config = yaml.safe_load(file)\n"
   ]
  },
  {
   "cell_type": "code",
   "execution_count": 3,
   "metadata": {},
   "outputs": [],
   "source": [
    "watchlist = ['PLTR', \n",
    "             'SOFI',\n",
    "             'RCAT',\n",
    "             'HIMS']"
   ]
  },
  {
   "cell_type": "code",
   "execution_count": 4,
   "metadata": {},
   "outputs": [
    {
     "data": {
      "text/plain": [
       "datetime.datetime"
      ]
     },
     "execution_count": 4,
     "metadata": {},
     "output_type": "execute_result"
    }
   ],
   "source": [
    "type(datetime.now() - timedelta(days=90))"
   ]
  },
  {
   "cell_type": "code",
   "execution_count": 5,
   "metadata": {},
   "outputs": [],
   "source": [
    "end_date = datetime.now()"
   ]
  },
  {
   "cell_type": "code",
   "execution_count": 6,
   "metadata": {},
   "outputs": [],
   "source": [
    "start_date = datetime.now() - timedelta(days=90)\n"
   ]
  },
  {
   "cell_type": "code",
   "execution_count": 7,
   "metadata": {},
   "outputs": [
    {
     "name": "stdout",
     "output_type": "stream",
     "text": [
      "2024-08-24 22:13:27.347337\n",
      "<class 'datetime.datetime'>\n"
     ]
    }
   ],
   "source": [
    "print(start_date)\n",
    "print(type(start_date))"
   ]
  },
  {
   "cell_type": "code",
   "execution_count": 8,
   "metadata": {},
   "outputs": [
    {
     "data": {
      "text/plain": [
       "alpaca.data.timeframe.TimeFrame"
      ]
     },
     "execution_count": 8,
     "metadata": {},
     "output_type": "execute_result"
    }
   ],
   "source": [
    "timeframe_hour = TimeFrame(1, TimeFrameUnit.Hour)\n",
    "type(timeframe_hour)"
   ]
  },
  {
   "cell_type": "code",
   "execution_count": 9,
   "metadata": {},
   "outputs": [],
   "source": [
    "market_scanner = MarketScanner(api_key=yaml_config['api_key_paper'],\n",
    "                               api_secret=yaml_config['api_secret_paper'],\n",
    "                               watchlist=watchlist, \n",
    "                               timeframe=timeframe_hour, # Minute, Hour, Day, Week, Month\n",
    "                               start=start_date,\n",
    "                               end=datetime.now())"
   ]
  },
  {
   "cell_type": "code",
   "execution_count": 10,
   "metadata": {},
   "outputs": [
    {
     "name": "stdout",
     "output_type": "stream",
     "text": [
      "Market Trend: neutral\n",
      "Volatility: normal\n",
      "Market Breadth: expanding\n",
      "Sentiment: positive\n",
      "Risk Level: low\n",
      "\n",
      "Detailed Metrics:\n",
      "\n",
      "trend_metrics:\n",
      "{'price_vs_sma50': np.float64(0.74), 'price_vs_sma200': np.float64(0.52), 'momentum': np.float64(0.2791839755125425), 'trend_strength': np.float64(0.28)}\n",
      "\n",
      "volatility_metrics:\n",
      "{'current_vix': np.float64(21.45), 'vix_20d_avg': np.float64(22.398035), 'vix_percentile': 11.154598825831702, 'vix_trend': np.float64(-0.04232670410596295)}\n",
      "\n",
      "breadth_metrics:\n",
      "{'advancing_sectors': 5, 'total_sectors': 7, 'breadth_ratio': 71.43, 'sector_returns': {'XLK': np.float64(4.07), 'XLF': np.float64(13.96), 'XLE': np.float64(6.79), 'XLV': np.float64(-7.17), 'XLI': np.float64(9.79), 'XLP': np.float64(-0.44), 'XLY': np.float64(16.02)}}\n",
      "\n",
      "sentiment_metrics:\n",
      "{'sentiment_score': np.float64(2.29), 'vix_trend': np.float64(-2.23), 'gold_trend': np.float64(0.1), 'treasury_trend': np.float64(-0.22)}\n",
      "\n",
      "sector_performance:\n",
      "{'XLK': {'absolute_return': np.float64(4.07), 'relative_return': np.float64(-1.76)}, 'XLF': {'absolute_return': np.float64(13.96), 'relative_return': np.float64(8.13)}, 'XLE': {'absolute_return': np.float64(6.79), 'relative_return': np.float64(0.96)}, 'XLV': {'absolute_return': np.float64(-7.17), 'relative_return': np.float64(-13.0)}, 'XLI': {'absolute_return': np.float64(9.79), 'relative_return': np.float64(3.96)}, 'XLP': {'absolute_return': np.float64(-0.44), 'relative_return': np.float64(-6.27)}, 'XLY': {'absolute_return': np.float64(16.02), 'relative_return': np.float64(10.19)}}\n",
      "\n",
      "correlation_matrix:\n",
      "       SPY   QQQ   IWM   XLK   XLF   XLE   XLV   XLI   XLP   XLY  UVXY   TLT  \\\n",
      "SPY   1.00  0.99  0.90  0.96  0.88  0.73 -0.71  0.97 -0.70  0.91 -0.45 -0.84   \n",
      "QQQ   0.99  1.00  0.88  0.98  0.82  0.70 -0.70  0.95 -0.73  0.90 -0.45 -0.83   \n",
      "IWM   0.90  0.88  1.00  0.81  0.89  0.75 -0.62  0.88 -0.60  0.88 -0.68 -0.71   \n",
      "XLK   0.96  0.98  0.81  1.00  0.74  0.64 -0.60  0.92 -0.67  0.80 -0.40 -0.79   \n",
      "XLF   0.88  0.82  0.89  0.74  1.00  0.78 -0.82  0.85 -0.70  0.89 -0.51 -0.87   \n",
      "XLE   0.73  0.70  0.75  0.64  0.78  1.00 -0.69  0.74 -0.68  0.73 -0.42 -0.74   \n",
      "XLV  -0.71 -0.70 -0.62 -0.60 -0.82 -0.69  1.00 -0.65  0.81 -0.82  0.30  0.85   \n",
      "XLI   0.97  0.95  0.88  0.92  0.85  0.74 -0.65  1.00 -0.66  0.90 -0.40 -0.81   \n",
      "XLP  -0.70 -0.73 -0.60 -0.67 -0.70 -0.68  0.81 -0.66  1.00 -0.66  0.17  0.89   \n",
      "XLY   0.91  0.90  0.88  0.80  0.89  0.73 -0.82  0.90 -0.66  1.00 -0.57 -0.77   \n",
      "UVXY -0.45 -0.45 -0.68 -0.40 -0.51 -0.42  0.30 -0.40  0.17 -0.57  1.00  0.20   \n",
      "TLT  -0.84 -0.83 -0.71 -0.79 -0.87 -0.74  0.85 -0.81  0.89 -0.77  0.20  1.00   \n",
      "IEF  -0.82 -0.81 -0.73 -0.75 -0.89 -0.75  0.86 -0.78  0.90 -0.78  0.25  0.99   \n",
      "GLD   0.59  0.61  0.33  0.64  0.36  0.16 -0.44  0.57 -0.51  0.40  0.23 -0.59   \n",
      "SLV   0.55  0.57  0.27  0.63  0.27  0.11 -0.35  0.50 -0.42  0.32  0.18 -0.51   \n",
      "USO   0.15  0.19  0.12  0.27 -0.02  0.49  0.02  0.16 -0.35 -0.06  0.08 -0.22   \n",
      "\n",
      "       IEF   GLD   SLV   USO  \n",
      "SPY  -0.82  0.59  0.55  0.15  \n",
      "QQQ  -0.81  0.61  0.57  0.19  \n",
      "IWM  -0.73  0.33  0.27  0.12  \n",
      "XLK  -0.75  0.64  0.63  0.27  \n",
      "XLF  -0.89  0.36  0.27 -0.02  \n",
      "XLE  -0.75  0.16  0.11  0.49  \n",
      "XLV   0.86 -0.44 -0.35  0.02  \n",
      "XLI  -0.78  0.57  0.50  0.16  \n",
      "XLP   0.90 -0.51 -0.42 -0.35  \n",
      "XLY  -0.78  0.40  0.32 -0.06  \n",
      "UVXY  0.25  0.23  0.18  0.08  \n",
      "TLT   0.99 -0.59 -0.51 -0.22  \n",
      "IEF   1.00 -0.53 -0.44 -0.21  \n",
      "GLD  -0.53  1.00  0.94  0.14  \n",
      "SLV  -0.44  0.94  1.00  0.18  \n",
      "USO  -0.21  0.14  0.18  1.00  \n"
     ]
    }
   ],
   "source": [
    "# For Jupyter notebooks, use this method\n",
    "async def analyze_market():\n",
    "    market_condition = await market_scanner.analyze_macro_environment()\n",
    "    \n",
    "    if market_condition:\n",
    "        print(f\"Market Trend: {market_condition.trend}\")\n",
    "        print(f\"Volatility: {market_condition.volatility}\")\n",
    "        print(f\"Market Breadth: {market_condition.breadth}\")\n",
    "        print(f\"Sentiment: {market_condition.sentiment}\")\n",
    "        print(f\"Risk Level: {market_condition.risk_level}\")\n",
    "        \n",
    "        print(\"\\nDetailed Metrics:\")\n",
    "        for category, metrics in market_condition.details.items():\n",
    "            print(f\"\\n{category}:\")\n",
    "            print(metrics)\n",
    "    \n",
    "    return market_condition\n",
    "\n",
    "# In Jupyter, use this to run async code:\n",
    "market_condition = await analyze_market()"
   ]
  },
  {
   "cell_type": "code",
   "execution_count": 11,
   "metadata": {},
   "outputs": [
    {
     "data": {
      "text/plain": [
       "MarketCondition(trend='neutral', volatility='normal', breadth='expanding', sentiment='positive', risk_level='low', details={'trend_metrics': {'price_vs_sma50': np.float64(0.74), 'price_vs_sma200': np.float64(0.52), 'momentum': np.float64(0.2791839755125425), 'trend_strength': np.float64(0.28)}, 'volatility_metrics': {'current_vix': np.float64(21.45), 'vix_20d_avg': np.float64(22.398035), 'vix_percentile': 11.154598825831702, 'vix_trend': np.float64(-0.04232670410596295)}, 'breadth_metrics': {'advancing_sectors': 5, 'total_sectors': 7, 'breadth_ratio': 71.43, 'sector_returns': {'XLK': np.float64(4.07), 'XLF': np.float64(13.96), 'XLE': np.float64(6.79), 'XLV': np.float64(-7.17), 'XLI': np.float64(9.79), 'XLP': np.float64(-0.44), 'XLY': np.float64(16.02)}}, 'sentiment_metrics': {'sentiment_score': np.float64(2.29), 'vix_trend': np.float64(-2.23), 'gold_trend': np.float64(0.1), 'treasury_trend': np.float64(-0.22)}, 'sector_performance': {'XLK': {'absolute_return': np.float64(4.07), 'relative_return': np.float64(-1.76)}, 'XLF': {'absolute_return': np.float64(13.96), 'relative_return': np.float64(8.13)}, 'XLE': {'absolute_return': np.float64(6.79), 'relative_return': np.float64(0.96)}, 'XLV': {'absolute_return': np.float64(-7.17), 'relative_return': np.float64(-13.0)}, 'XLI': {'absolute_return': np.float64(9.79), 'relative_return': np.float64(3.96)}, 'XLP': {'absolute_return': np.float64(-0.44), 'relative_return': np.float64(-6.27)}, 'XLY': {'absolute_return': np.float64(16.02), 'relative_return': np.float64(10.19)}}, 'correlation_matrix':        SPY   QQQ   IWM   XLK   XLF   XLE   XLV   XLI   XLP   XLY  UVXY   TLT  \\\n",
       "SPY   1.00  0.99  0.90  0.96  0.88  0.73 -0.71  0.97 -0.70  0.91 -0.45 -0.84   \n",
       "QQQ   0.99  1.00  0.88  0.98  0.82  0.70 -0.70  0.95 -0.73  0.90 -0.45 -0.83   \n",
       "IWM   0.90  0.88  1.00  0.81  0.89  0.75 -0.62  0.88 -0.60  0.88 -0.68 -0.71   \n",
       "XLK   0.96  0.98  0.81  1.00  0.74  0.64 -0.60  0.92 -0.67  0.80 -0.40 -0.79   \n",
       "XLF   0.88  0.82  0.89  0.74  1.00  0.78 -0.82  0.85 -0.70  0.89 -0.51 -0.87   \n",
       "XLE   0.73  0.70  0.75  0.64  0.78  1.00 -0.69  0.74 -0.68  0.73 -0.42 -0.74   \n",
       "XLV  -0.71 -0.70 -0.62 -0.60 -0.82 -0.69  1.00 -0.65  0.81 -0.82  0.30  0.85   \n",
       "XLI   0.97  0.95  0.88  0.92  0.85  0.74 -0.65  1.00 -0.66  0.90 -0.40 -0.81   \n",
       "XLP  -0.70 -0.73 -0.60 -0.67 -0.70 -0.68  0.81 -0.66  1.00 -0.66  0.17  0.89   \n",
       "XLY   0.91  0.90  0.88  0.80  0.89  0.73 -0.82  0.90 -0.66  1.00 -0.57 -0.77   \n",
       "UVXY -0.45 -0.45 -0.68 -0.40 -0.51 -0.42  0.30 -0.40  0.17 -0.57  1.00  0.20   \n",
       "TLT  -0.84 -0.83 -0.71 -0.79 -0.87 -0.74  0.85 -0.81  0.89 -0.77  0.20  1.00   \n",
       "IEF  -0.82 -0.81 -0.73 -0.75 -0.89 -0.75  0.86 -0.78  0.90 -0.78  0.25  0.99   \n",
       "GLD   0.59  0.61  0.33  0.64  0.36  0.16 -0.44  0.57 -0.51  0.40  0.23 -0.59   \n",
       "SLV   0.55  0.57  0.27  0.63  0.27  0.11 -0.35  0.50 -0.42  0.32  0.18 -0.51   \n",
       "USO   0.15  0.19  0.12  0.27 -0.02  0.49  0.02  0.16 -0.35 -0.06  0.08 -0.22   \n",
       "\n",
       "       IEF   GLD   SLV   USO  \n",
       "SPY  -0.82  0.59  0.55  0.15  \n",
       "QQQ  -0.81  0.61  0.57  0.19  \n",
       "IWM  -0.73  0.33  0.27  0.12  \n",
       "XLK  -0.75  0.64  0.63  0.27  \n",
       "XLF  -0.89  0.36  0.27 -0.02  \n",
       "XLE  -0.75  0.16  0.11  0.49  \n",
       "XLV   0.86 -0.44 -0.35  0.02  \n",
       "XLI  -0.78  0.57  0.50  0.16  \n",
       "XLP   0.90 -0.51 -0.42 -0.35  \n",
       "XLY  -0.78  0.40  0.32 -0.06  \n",
       "UVXY  0.25  0.23  0.18  0.08  \n",
       "TLT   0.99 -0.59 -0.51 -0.22  \n",
       "IEF   1.00 -0.53 -0.44 -0.21  \n",
       "GLD  -0.53  1.00  0.94  0.14  \n",
       "SLV  -0.44  0.94  1.00  0.18  \n",
       "USO  -0.21  0.14  0.18  1.00  })"
      ]
     },
     "execution_count": 11,
     "metadata": {},
     "output_type": "execute_result"
    }
   ],
   "source": [
    "market_condition"
   ]
  },
  {
   "cell_type": "code",
   "execution_count": null,
   "metadata": {},
   "outputs": [],
   "source": []
  }
 ],
 "metadata": {
  "kernelspec": {
   "display_name": "alpaca",
   "language": "python",
   "name": "python3"
  },
  "language_info": {
   "codemirror_mode": {
    "name": "ipython",
    "version": 3
   },
   "file_extension": ".py",
   "mimetype": "text/x-python",
   "name": "python",
   "nbconvert_exporter": "python",
   "pygments_lexer": "ipython3",
   "version": "3.13.0"
  }
 },
 "nbformat": 4,
 "nbformat_minor": 2
}
