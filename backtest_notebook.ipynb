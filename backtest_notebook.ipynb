{
 "cells": [
  {
   "cell_type": "code",
   "execution_count": 1,
   "metadata": {},
   "outputs": [],
   "source": [
    "from stockbot.backtest_bot import *\n",
    "import pandas as pd\n",
    "from pathlib import Path\n",
    "from datetime import datetime"
   ]
  },
  {
   "cell_type": "markdown",
   "metadata": {},
   "source": [
    "##### Back end configurations for the **Backtest Bot**\n",
    "\n",
    "- Set the data_folder\n",
    "- Change the YAML configuration file to the file containing strategies you want to test. "
   ]
  },
  {
   "cell_type": "code",
   "execution_count": 2,
   "metadata": {},
   "outputs": [],
   "source": [
    "data_folder = Path('.\\\\config')\n",
    "yaml_config = 'extended_backtesting.yaml'\n",
    "cfg = data_folder / yaml_config\n"
   ]
  },
  {
   "cell_type": "markdown",
   "metadata": {},
   "source": [
    "##### Load the config file into the Backtest class and run the analysis"
   ]
  },
  {
   "cell_type": "code",
   "execution_count": 3,
   "metadata": {},
   "outputs": [],
   "source": [
    "backtest = Backtest(cfg)\n",
    "results = backtest.run()\n"
   ]
  },
  {
   "cell_type": "code",
   "execution_count": 4,
   "metadata": {},
   "outputs": [
    {
     "data": {
      "text/plain": [
       "{'ma_crossover_aapl': {'total_return': np.float64(-5.407626718222569),\n",
       "  'annual_return': np.float64(-1.132523495178972),\n",
       "  'avg_daily_return': np.float64(0.0130554123418317),\n",
       "  'return_std': np.float64(1.8752821420905876),\n",
       "  'drawdown_metrics': {'max_drawdown': np.float64(-0.5689129716967678),\n",
       "   'avg_drawdown': np.float64(-0.34631286331158223),\n",
       "   'max_drawdown_duration': np.int64(1061),\n",
       "   'avg_drawdown_duration': np.float64(487.96990541702496),\n",
       "   'drawdown_frequency': np.float64(0.9455284552845529)},\n",
       "  'trade_metrics': {'total_trades': 27,\n",
       "   'win_rate': np.float64(0.38461538461538464),\n",
       "   'avg_trade_return': np.float64(0.0024952349476966306),\n",
       "   'best_trade': np.float64(0.4463752121562927),\n",
       "   'worst_trade': np.float64(-0.17583247946369018),\n",
       "   'avg_winning_trade': np.float64(0.1114297704943192),\n",
       "   'avg_losing_trade': np.float64(-0.06558884976894247),\n",
       "   'profit_factor': np.float64(1.061820824794019)},\n",
       "  'risk_metrics': {'sharpe_ratio': np.float64(0.04399258975285559),\n",
       "   'sortino_ratio': np.float64(0.06208098616161932),\n",
       "   'calmar_ratio': np.float64(0.0578289487815572),\n",
       "   'volatility': np.float64(0.29769181116313115),\n",
       "   'skewness': np.float64(0.06220837316568682),\n",
       "   'kurtosis': np.float64(4.686605977359348),\n",
       "   'var_95': np.float64(-0.029074559284235746),\n",
       "   'cvar_95': np.float64(-0.042816177542199574),\n",
       "   'omega_ratio': np.float64(0.9993823963619289)},\n",
       "  'timing_metrics': {'avg_monthly_return': np.float64(0.0023170823803153606),\n",
       "   'monthly_return_std': np.float64(0.08165611758630116),\n",
       "   'positive_months': np.float64(0.5084745762711864),\n",
       "   'avg_up_month': np.float64(0.06687409513828474),\n",
       "   'avg_down_month': np.float64(-0.06924129606333096),\n",
       "   'avg_rolling_beta': nan,\n",
       "   'beta_std': np.float64(nan),\n",
       "   'consecutive_wins': np.int64(9),\n",
       "   'consecutive_losses': np.int64(11)}},\n",
       " 'rsi_tech_basket': {'total_return': np.float64(3.6572289425230498),\n",
       "  'annual_return': np.float64(0.7386240093597563),\n",
       "  'avg_daily_return': np.float64(0.007820814888147582),\n",
       "  'return_std': np.float64(0.993876838426395),\n",
       "  'drawdown_metrics': {'max_drawdown': np.float64(-0.2757517380605179),\n",
       "   'avg_drawdown': np.float64(-0.13849226121193983),\n",
       "   'max_drawdown_duration': np.int64(1160),\n",
       "   'avg_drawdown_duration': np.float64(579.006018916595),\n",
       "   'drawdown_frequency': np.float64(0.9455284552845529)},\n",
       "  'trade_metrics': {'total_trades': 188,\n",
       "   'win_rate': np.float64(0.6951871657754011),\n",
       "   'avg_trade_return': np.float64(0.008345324953285436),\n",
       "   'best_trade': np.float64(0.09310085079217445),\n",
       "   'worst_trade': np.float64(-0.07555060496303301),\n",
       "   'avg_winning_trade': np.float64(0.020440004391010944),\n",
       "   'avg_losing_trade': np.float64(-0.019938632810309925),\n",
       "   'profit_factor': np.float64(2.423071737722093)},\n",
       "  'risk_metrics': {'sharpe_ratio': np.float64(-0.0006018255833190611),\n",
       "   'sortino_ratio': np.float64(-0.0005174120485941046),\n",
       "   'calmar_ratio': np.float64(0.0714717290877296),\n",
       "   'volatility': np.float64(0.1577730568982019),\n",
       "   'skewness': np.float64(1.1895834848082971),\n",
       "   'kurtosis': np.float64(17.980935849161774),\n",
       "   'var_95': np.float64(-0.014250698653075237),\n",
       "   'cvar_95': np.float64(-0.025814801358538284),\n",
       "   'omega_ratio': np.float64(1.048122151475037)},\n",
       "  'timing_metrics': {'avg_monthly_return': np.float64(0.0012129669679207989),\n",
       "   'monthly_return_std': np.float64(0.034813040592881324),\n",
       "   'positive_months': np.float64(0.559322033898305),\n",
       "   'avg_up_month': np.float64(0.025364172028734137),\n",
       "   'avg_down_month': np.float64(-0.03328054894960432),\n",
       "   'avg_rolling_beta': nan,\n",
       "   'beta_std': np.float64(nan),\n",
       "   'consecutive_wins': np.int64(4),\n",
       "   'consecutive_losses': np.int64(7)}},\n",
       " 'bollinger_portfolio': {'total_return': np.float64(19.87117422574085),\n",
       "  'annual_return': np.float64(3.7831686868450953),\n",
       "  'avg_daily_return': np.float64(0.01702637000825135),\n",
       "  'return_std': np.float64(0.6852581602433613),\n",
       "  'drawdown_metrics': {'max_drawdown': np.float64(-0.09236469170690353),\n",
       "   'avg_drawdown': np.float64(-0.03641481177087991),\n",
       "   'max_drawdown_duration': np.int64(1116),\n",
       "   'avg_drawdown_duration': np.float64(556.5142857142857),\n",
       "   'drawdown_frequency': np.float64(0.9105691056910569)},\n",
       "  'trade_metrics': {'total_trades': 142,\n",
       "   'win_rate': np.float64(0.7446808510638298),\n",
       "   'avg_trade_return': np.float64(0.007909608531400204),\n",
       "   'best_trade': np.float64(0.11980842271085046),\n",
       "   'worst_trade': np.float64(-0.0541452031551819),\n",
       "   'avg_winning_trade': np.float64(0.014422433765154822),\n",
       "   'avg_losing_trade': np.float64(-0.011086131733717435),\n",
       "   'profit_factor': np.float64(3.794419264124096)},\n",
       "  'risk_metrics': {'sharpe_ratio': np.float64(0.21238056706808559),\n",
       "   'sortino_ratio': np.float64(0.11663547221692765),\n",
       "   'calmar_ratio': np.float64(0.46453305508717985),\n",
       "   'volatility': np.float64(0.10878136055289495),\n",
       "   'skewness': np.float64(5.785261335213831),\n",
       "   'kurtosis': np.float64(116.39394314778235),\n",
       "   'var_95': np.float64(0.0),\n",
       "   'cvar_95': np.float64(-0.0006576523531256919),\n",
       "   'omega_ratio': np.float64(1.173645178210857)},\n",
       "  'timing_metrics': {'avg_monthly_return': np.float64(0.0038603117360336186),\n",
       "   'monthly_return_std': np.float64(0.04226765792226446),\n",
       "   'positive_months': np.float64(0.4576271186440678),\n",
       "   'avg_up_month': np.float64(0.024342228289654863),\n",
       "   'avg_down_month': np.float64(-0.017179270855787913),\n",
       "   'avg_rolling_beta': nan,\n",
       "   'beta_std': np.float64(nan),\n",
       "   'consecutive_wins': np.int64(2),\n",
       "   'consecutive_losses': np.int64(5)}},\n",
       " 'ichimoku_test': {'total_return': np.float64(9.746932285386478),\n",
       "  'annual_return': np.float64(1.9237781601739945),\n",
       "  'avg_daily_return': np.float64(0.018432428196344008),\n",
       "  'return_std': np.float64(1.4756907054712562),\n",
       "  'drawdown_metrics': {'max_drawdown': np.float64(-0.4908614841820025),\n",
       "   'avg_drawdown': np.float64(-0.34736308850489256),\n",
       "   'max_drawdown_duration': np.int64(1061),\n",
       "   'avg_drawdown_duration': np.float64(506.7913669064748),\n",
       "   'drawdown_frequency': np.float64(0.9040650406504065)},\n",
       "  'trade_metrics': {'total_trades': 113,\n",
       "   'win_rate': np.float64(0.15178571428571427),\n",
       "   'avg_trade_return': np.float64(-0.007426948626812673),\n",
       "   'best_trade': np.float64(0.4601936799863543),\n",
       "   'worst_trade': np.float64(-0.06977753114970087),\n",
       "   'avg_winning_trade': np.float64(0.08536878979629575),\n",
       "   'avg_losing_trade': np.float64(-0.024032501818316277),\n",
       "   'profit_factor': np.float64(0.6356608394259725)},\n",
       "  'risk_metrics': {'sharpe_ratio': np.float64(0.11374741184291016),\n",
       "   'sortino_ratio': np.float64(0.14192562109708923),\n",
       "   'calmar_ratio': np.float64(0.09462897487708403),\n",
       "   'volatility': np.float64(0.2342586371235844),\n",
       "   'skewness': np.float64(0.1474317167341589),\n",
       "   'kurtosis': np.float64(5.120275935368852),\n",
       "   'var_95': np.float64(-0.023714755252733172),\n",
       "   'cvar_95': np.float64(-0.03508887634692702),\n",
       "   'omega_ratio': np.float64(1.0395171259834883)},\n",
       "  'timing_metrics': {'avg_monthly_return': np.float64(0.00403876071584352),\n",
       "   'monthly_return_std': np.float64(0.0710233547301042),\n",
       "   'positive_months': np.float64(0.4745762711864407),\n",
       "   'avg_up_month': np.float64(0.06349141420955093),\n",
       "   'avg_down_month': np.float64(-0.054981168415452086),\n",
       "   'avg_rolling_beta': nan,\n",
       "   'beta_std': np.float64(nan),\n",
       "   'consecutive_wins': np.int64(9),\n",
       "   'consecutive_losses': np.int64(6)}}}"
      ]
     },
     "execution_count": 4,
     "metadata": {},
     "output_type": "execute_result"
    }
   ],
   "source": [
    "# Get Performance Metrics for each strategy contained in the YAML Config file. \n",
    "backtest.get_performance_metrics()"
   ]
  },
  {
   "cell_type": "markdown",
   "metadata": {},
   "source": [
    "#### Results Breakdown\n",
    "\n",
    "##### 1. For the *Bollinger Portfolio* (best performer):\n",
    "\n",
    "**Return Metrics**:\n",
    "\n",
    "- Total Return: +19.87% (total profit)\n",
    "- Annual Return: +3.79% per year\n",
    "- Average Daily Return: +0.017% per day\n",
    "- Return Standard Deviation: 0.69% daily volatility\n",
    "\n",
    "\n",
    "**Trade Performance**:\n",
    "\n",
    "\n",
    "* Win Rate: 74.47% (percentage of profitable trades)\n",
    "* Total Trades: 142 trades\n",
    "* Best Trade: +11.98%\n",
    "* Worst Trade: -5.41%\n",
    "* Profit Factor: 3.79 (gross profits divided by gross losses - very good)\n",
    "\n",
    "\n",
    "**Risk Metrics**:\n",
    "\n",
    "\n",
    "* Sharpe Ratio: 0.21 (risk-adjusted returns - positive but low)\n",
    "* Maximum Drawdown: -9.24% (biggest peak-to-trough decline)\n",
    "* Value at Risk (95%): 0%\n",
    "* Volatility: 10.89% annualized\n",
    "\n",
    "##### 2. For the *RSI Tech Basket* (moderate performer):\n",
    "\n",
    "**Return Metrics**:\n",
    "\n",
    "\n",
    "- Total Return: +3.66%\n",
    "- Annual Return: +0.74%\n",
    "- Average Daily Return: +0.008%\n",
    "\n",
    "\n",
    "**Trade Performance**:\n",
    "\n",
    "\n",
    "* Win Rate: 69.52%\n",
    "* Total Trades: 188 trades\n",
    "* Best Trade: +9.31%\n",
    "* Worst Trade: -7.56%\n",
    "* Profit Factor: 2.42 (good)\n",
    "\n",
    "##### 3. For the MA Crossover AAPL (worst performer):\n",
    "\n",
    "**Return Metrics**:\n",
    "\n",
    "\n",
    "* Total Return: -6.77% (loss)\n",
    "* Annual Return: -1.43%\n",
    "* Average Daily Return: +0.012%\n",
    "\n",
    "\n",
    "**Trade Performance**:\n",
    "\n",
    "\n",
    "- Win Rate: 36% (poor)\n",
    "- Total Trades: 26 trades\n",
    "- Best Trade: +44.64%\n",
    "- Worst Trade: -17.58%\n",
    "- Profit Factor: 1.06 (barely profitable)\n",
    "\n",
    "The Bollinger Portfolio strategy performed best with:\n",
    "\n",
    "         Highest total return\n",
    "         Best win rate\n",
    "         Best profit factor\n",
    "         Smallest maximum drawdown\n",
    "         Most consistent performance metrics"
   ]
  },
  {
   "cell_type": "code",
   "execution_count": 5,
   "metadata": {},
   "outputs": [
    {
     "data": {
      "text/plain": [
       "['NVDA', 'NIO', 'MSFT', 'GOOGL', 'PLTR', 'AAPL']"
      ]
     },
     "execution_count": 5,
     "metadata": {},
     "output_type": "execute_result"
    }
   ],
   "source": [
    "backtest._get_all_symbols()"
   ]
  },
  {
   "cell_type": "code",
   "execution_count": 6,
   "metadata": {},
   "outputs": [
    {
     "data": {
      "text/plain": [
       "{'ma_crossover_aapl': <stockbot.Strategy.MovingAverageCrossover at 0x20628b212b0>,\n",
       " 'rsi_tech_basket': <stockbot.Strategy.RSIStrategy at 0x20628b21010>,\n",
       " 'bollinger_portfolio': <stockbot.Strategy.BollingerBandsStrategy at 0x20628b20c20>,\n",
       " 'ichimoku_test': <stockbot.Strategy.IchimokuStrategy at 0x20628b20ec0>}"
      ]
     },
     "execution_count": 6,
     "metadata": {},
     "output_type": "execute_result"
    }
   ],
   "source": [
    "backtest.strategies"
   ]
  },
  {
   "cell_type": "code",
   "execution_count": 7,
   "metadata": {},
   "outputs": [
    {
     "data": {
      "text/plain": [
       "{'data': {'universe': {'type': 'static', 'symbols': ['AAPL', 'MSFT', 'GOOGL']},\n",
       "  'parameters': {'interval': '1d',\n",
       "   'history_start': '2020-01-01',\n",
       "   'add_indicators': True,\n",
       "   'cache_data': True,\n",
       "   'adjustment': 'split+div'}},\n",
       " 'strategies': {'ma_crossover_aapl': {'type': 'MovingAverageCrossover',\n",
       "   'enabled': True,\n",
       "   'symbols': ['AAPL'],\n",
       "   'parameters': {'short_window': 20, 'long_window': 50}},\n",
       "  'rsi_tech_basket': {'type': 'RSIStrategy',\n",
       "   'enabled': True,\n",
       "   'symbols': ['MSFT', 'GOOGL'],\n",
       "   'parameters': {'period': 14, 'overbought': 70, 'oversold': 30}},\n",
       "  'bollinger_portfolio': {'type': 'BollingerBandsStrategy',\n",
       "   'enabled': True,\n",
       "   'symbols': ['AAPL', 'MSFT', 'GOOGL'],\n",
       "   'parameters': {'period': 20, 'std_dev': 2, 'mean_reversion': True}},\n",
       "  'ichimoku_test': {'type': 'IchimokuStrategy',\n",
       "   'enabled': True,\n",
       "   'symbols': ['NVDA', 'PLTR', 'NIO'],\n",
       "   'parameters': {'conversion_period': 9,\n",
       "    'base_period': 26,\n",
       "    'span_period': 52}}},\n",
       " 'portfolio': {'initial_capital': 100000,\n",
       "  'position_sizing': {'method': 'equal',\n",
       "   'max_position_size': 0.2,\n",
       "   'max_correlation': 0.7},\n",
       "  'rebalancing': {'frequency': 'monthly', 'threshold': 0.05}},\n",
       " 'risk_management': {'max_portfolio_risk': 0.02,\n",
       "  'stop_loss': 0.02,\n",
       "  'trailing_stop': 0.015,\n",
       "  'take_profit': 0.04,\n",
       "  'max_drawdown_limit': 0.15,\n",
       "  'position_sizing_method': 'risk_parity'},\n",
       " 'execution': {'commission': 0.001,\n",
       "  'slippage': 0.001,\n",
       "  'minimum_order_size': 100,\n",
       "  'market_impact': 0.0002},\n",
       " 'reporting': {'frequency': 'daily',\n",
       "  'metrics': ['sharpe_ratio',\n",
       "   'sortino_ratio',\n",
       "   'max_drawdown',\n",
       "   'win_rate',\n",
       "   'profit_factor']}}"
      ]
     },
     "execution_count": 7,
     "metadata": {},
     "output_type": "execute_result"
    }
   ],
   "source": [
    "backtest.config"
   ]
  },
  {
   "cell_type": "code",
   "execution_count": null,
   "metadata": {},
   "outputs": [],
   "source": []
  },
  {
   "cell_type": "code",
   "execution_count": null,
   "metadata": {},
   "outputs": [],
   "source": []
  }
 ],
 "metadata": {
  "kernelspec": {
   "display_name": "alpaca",
   "language": "python",
   "name": "python3"
  },
  "language_info": {
   "codemirror_mode": {
    "name": "ipython",
    "version": 3
   },
   "file_extension": ".py",
   "mimetype": "text/x-python",
   "name": "python",
   "nbconvert_exporter": "python",
   "pygments_lexer": "ipython3",
   "version": "3.13.0"
  }
 },
 "nbformat": 4,
 "nbformat_minor": 2
}
