{
 "cells": [
  {
   "cell_type": "code",
   "execution_count": 1,
   "metadata": {},
   "outputs": [],
   "source": [
    "import os\n",
    "from pathlib import Path\n",
    "import yaml\n",
    "from alpaca.trading.client import TradingClient\n",
    "from alpaca.trading.requests import GetAssetsRequest\n",
    "from stock.trading_bot import *\n",
    "\n",
    "from Backtest import *"
   ]
  },
  {
   "cell_type": "code",
   "execution_count": 2,
   "metadata": {},
   "outputs": [],
   "source": [
    "# edit config file path\n",
    "data_folder = Path(\"C:\\\\Users\\\\fwmac\\\\Documents\\\\Projects\\\\alfraca\\\\true-bautist\\\\config\")\n",
    "\n",
    "# change to the yaml config file / api_keys you want to use.\n",
    "yaml_config = 'backtest_config.yaml' \n",
    "api_keys = 'api_keys.yaml'\n",
    "\n",
    "cfg = data_folder / yaml_config\n",
    "keys = data_folder / api_keys"
   ]
  },
  {
   "cell_type": "code",
   "execution_count": 3,
   "metadata": {},
   "outputs": [],
   "source": [
    "with open(cfg, 'r') as file:\n",
    "    baut_config = yaml.safe_load(file)\n",
    "\n",
    "with open(keys, 'r') as file:\n",
    "    baut_keys = yaml.safe_load(file)\n"
   ]
  },
  {
   "cell_type": "code",
   "execution_count": 4,
   "metadata": {},
   "outputs": [],
   "source": [
    "\n",
    "trading_client = TradingClient(baut_keys['api_key_paper'],\n",
    "                               baut_keys['api_secret_paper'])\n"
   ]
  },
  {
   "cell_type": "code",
   "execution_count": 5,
   "metadata": {},
   "outputs": [
    {
     "data": {
      "text/plain": [
       "{   'account_blocked': False,\n",
       "    'account_number': 'PA38V16C2WNE',\n",
       "    'accrued_fees': '0',\n",
       "    'buying_power': '200000',\n",
       "    'cash': '100000',\n",
       "    'created_at': datetime.datetime(2021, 11, 23, 20, 31, 47, 587441, tzinfo=TzInfo(UTC)),\n",
       "    'crypto_status': <AccountStatus.ACTIVE: 'ACTIVE'>,\n",
       "    'currency': 'USD',\n",
       "    'daytrade_count': 0,\n",
       "    'daytrading_buying_power': '0',\n",
       "    'equity': '100000',\n",
       "    'id': UUID('8c96b61f-a094-4f1c-b1c4-1ec1962e3cfc'),\n",
       "    'initial_margin': '0',\n",
       "    'last_equity': '100000',\n",
       "    'last_maintenance_margin': '0',\n",
       "    'long_market_value': '0',\n",
       "    'maintenance_margin': '0',\n",
       "    'multiplier': '2',\n",
       "    'non_marginable_buying_power': '100000',\n",
       "    'options_approved_level': 2,\n",
       "    'options_buying_power': '100000',\n",
       "    'options_trading_level': 2,\n",
       "    'pattern_day_trader': True,\n",
       "    'pending_transfer_in': None,\n",
       "    'pending_transfer_out': None,\n",
       "    'portfolio_value': '100000',\n",
       "    'regt_buying_power': '200000',\n",
       "    'short_market_value': '0',\n",
       "    'shorting_enabled': True,\n",
       "    'sma': '100000',\n",
       "    'status': <AccountStatus.ACTIVE: 'ACTIVE'>,\n",
       "    'trade_suspended_by_user': False,\n",
       "    'trading_blocked': False,\n",
       "    'transfers_blocked': False}"
      ]
     },
     "execution_count": 5,
     "metadata": {},
     "output_type": "execute_result"
    }
   ],
   "source": [
    "trading_client.get_account()"
   ]
  },
  {
   "cell_type": "code",
   "execution_count": 6,
   "metadata": {},
   "outputs": [
    {
     "data": {
      "text/plain": [
       "{'backtest': {'start_date': '2023-01-01',\n",
       "  'end_date': '2023-12-31',\n",
       "  'initial_capital': 100000,\n",
       "  'commission': 0.001,\n",
       "  'slippage': 0.001,\n",
       "  'timeframe': '1H',\n",
       "  'data': {'symbols': ['PLTR', 'TSLA', 'SOFI', 'AMD', 'HIMS'],\n",
       "   'price_type': 'close',\n",
       "   'adjust_prices': True},\n",
       "  'analysis': {'benchmark': 'SPY',\n",
       "   'risk_free_rate': 0.02,\n",
       "   'metrics': ['total_return',\n",
       "    'annual_return',\n",
       "    'sharpe_ratio',\n",
       "    'sortino_ratio',\n",
       "    'max_drawdown',\n",
       "    'win_rate',\n",
       "    'profit_factor',\n",
       "    'calmar_ratio'],\n",
       "   'plots': ['equity_curve',\n",
       "    'drawdown',\n",
       "    'returns_distribution',\n",
       "    'monthly_returns',\n",
       "    'rolling_sharpe']}}}"
      ]
     },
     "execution_count": 6,
     "metadata": {},
     "output_type": "execute_result"
    }
   ],
   "source": [
    "baut_config"
   ]
  },
  {
   "cell_type": "code",
   "execution_count": 7,
   "metadata": {},
   "outputs": [
    {
     "ename": "TypeError",
     "evalue": "Backtester.__init__() missing 4 required positional arguments: 'strategy_config', 'start_date', 'end_date', and 'timeframe_unit'",
     "output_type": "error",
     "traceback": [
      "\u001b[1;31m---------------------------------------------------------------------------\u001b[0m",
      "\u001b[1;31mTypeError\u001b[0m                                 Traceback (most recent call last)",
      "Cell \u001b[1;32mIn[7], line 1\u001b[0m\n\u001b[1;32m----> 1\u001b[0m backtester \u001b[38;5;241m=\u001b[39m \u001b[43mBacktester\u001b[49m\u001b[43m(\u001b[49m\n\u001b[0;32m      2\u001b[0m \u001b[43m    \u001b[49m\n\u001b[0;32m      3\u001b[0m \u001b[43m)\u001b[49m\n",
      "\u001b[1;31mTypeError\u001b[0m: Backtester.__init__() missing 4 required positional arguments: 'strategy_config', 'start_date', 'end_date', and 'timeframe_unit'"
     ]
    }
   ],
   "source": [
    "backtester = Backtester(\n",
    "    \n",
    ")"
   ]
  }
 ],
 "metadata": {
  "kernelspec": {
   "display_name": "alpaca",
   "language": "python",
   "name": "python3"
  },
  "language_info": {
   "codemirror_mode": {
    "name": "ipython",
    "version": 3
   },
   "file_extension": ".py",
   "mimetype": "text/x-python",
   "name": "python",
   "nbconvert_exporter": "python",
   "pygments_lexer": "ipython3",
   "version": "3.13.0"
  }
 },
 "nbformat": 4,
 "nbformat_minor": 2
}
