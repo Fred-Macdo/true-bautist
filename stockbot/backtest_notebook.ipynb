{
 "cells": [
  {
   "cell_type": "code",
   "execution_count": 1,
   "metadata": {},
   "outputs": [],
   "source": [
    "from backtest_bot import Backtest\n",
    "import pandas as pd\n",
    "from pathlib import Path\n",
    "from datetime import datetime"
   ]
  },
  {
   "cell_type": "markdown",
   "metadata": {},
   "source": [
    "##### Back end configurations for the **Backtest Bot**\n",
    "\n",
    "- Set the data_folder\n",
    "- Change the YAML configuration file to the file containing strategies you want to test. "
   ]
  },
  {
   "cell_type": "code",
   "execution_count": 2,
   "metadata": {},
   "outputs": [],
   "source": [
    "data_folder = Path('/Users/frederickmacdonald/Documents/Projects/true_botist/true-bautist/config')\n",
    "yaml_config = 'extended_backtesting.yaml'\n",
    "cfg = data_folder / yaml_config\n"
   ]
  },
  {
   "cell_type": "markdown",
   "metadata": {},
   "source": [
    "##### Load the config file into the Backtest class and run the analysis"
   ]
  },
  {
   "cell_type": "code",
   "execution_count": 3,
   "metadata": {},
   "outputs": [],
   "source": [
    "backtest = Backtest(cfg)\n",
    "results = backtest.run()\n"
   ]
  },
  {
   "cell_type": "code",
   "execution_count": 6,
   "metadata": {},
   "outputs": [
    {
     "data": {
      "text/plain": [
       "{'ma_crossover_aapl': {'total_return': -6.766911297499112,\n",
       "  'annual_return': -1.4275792862841752,\n",
       "  'avg_daily_return': 0.01189067697501362,\n",
       "  'return_std': 1.8764238752183189,\n",
       "  'drawdown_metrics': {'max_drawdown': -0.5689134300993286,\n",
       "   'avg_drawdown': -0.3461823211630413,\n",
       "   'max_drawdown_duration': 1059,\n",
       "   'avg_drawdown_duration': 486.9836347975883,\n",
       "   'drawdown_frequency': 0.9454397394136808},\n",
       "  'trade_metrics': {'total_trades': 26,\n",
       "   'win_rate': 0.36,\n",
       "   'avg_trade_return': 0.0024615418477049555,\n",
       "   'best_trade': 0.4463746575388491,\n",
       "   'worst_trade': -0.17583262964444624,\n",
       "   'avg_winning_trade': 0.12344020834725436,\n",
       "   'avg_losing_trade': -0.0655889580582916,\n",
       "   'profit_factor': 1.0586403451267017},\n",
       "  'risk_metrics': {'sharpe_ratio': 0.034112184379228666,\n",
       "   'sortino_ratio': 0.048167403035790035,\n",
       "   'calmar_ratio': 0.052669711052176625,\n",
       "   'volatility': 0.297873055678306,\n",
       "   'skewness': 0.06377360551401492,\n",
       "   'kurtosis': 4.680358734952003,\n",
       "   'var_95': -0.029085253312574433,\n",
       "   'cvar_95': -0.04281617192680852,\n",
       "   'omega_ratio': 1.0009764591057815},\n",
       "  'timing_metrics': {'avg_monthly_return': 0.0020707017396464755,\n",
       "   'monthly_return_std': 0.08164958901939605,\n",
       "   'positive_months': 0.4915254237288136,\n",
       "   'avg_up_month': 0.0687800205903257,\n",
       "   'avg_down_month': -0.0668731855171537,\n",
       "   'avg_rolling_beta': nan,\n",
       "   'beta_std': nan,\n",
       "   'consecutive_wins': 9,\n",
       "   'consecutive_losses': 11}},\n",
       " 'rsi_tech_basket': {'total_return': 3.6572163707348837,\n",
       "  'annual_return': 0.7398289118431656,\n",
       "  'avg_daily_return': 0.00783354966572794,\n",
       "  'return_std': 0.9946871774447734,\n",
       "  'drawdown_metrics': {'max_drawdown': -0.275752823219203,\n",
       "   'avg_drawdown': -0.13857480650760579,\n",
       "   'max_drawdown_duration': 1158,\n",
       "   'avg_drawdown_duration': 578.0060292850991,\n",
       "   'drawdown_frequency': 0.9454397394136808},\n",
       "  'trade_metrics': {'total_trades': 188,\n",
       "   'win_rate': 0.6951871657754011,\n",
       "   'avg_trade_return': 0.008345329662577112,\n",
       "   'best_trade': 0.09310063172696159,\n",
       "   'worst_trade': -0.07555060465235952,\n",
       "   'avg_winning_trade': 0.0204400231231529,\n",
       "   'avg_losing_trade': -0.019938661074690132,\n",
       "   'profit_factor': 2.4230705234655856},\n",
       "  'risk_metrics': {'sharpe_ratio': -0.0003980972009455394,\n",
       "   'sortino_ratio': -0.0003425381744150104,\n",
       "   'calmar_ratio': 0.07158782610882697,\n",
       "   'volatility': 0.1579016942294188,\n",
       "   'skewness': 1.1885725471364477,\n",
       "   'kurtosis': 17.946682054831154,\n",
       "   'var_95': -0.01431838772312202,\n",
       "   'cvar_95': -0.025814828827908438,\n",
       "   'omega_ratio': 1.0481220741189767},\n",
       "  'timing_metrics': {'avg_monthly_return': 0.0012129681336505603,\n",
       "   'monthly_return_std': 0.03481313071968375,\n",
       "   'positive_months': 0.559322033898305,\n",
       "   'avg_up_month': 0.02536425097488244,\n",
       "   'avg_down_month': -0.03328065922981467,\n",
       "   'avg_rolling_beta': nan,\n",
       "   'beta_std': nan,\n",
       "   'consecutive_wins': 4,\n",
       "   'consecutive_losses': 7}},\n",
       " 'bollinger_portfolio': {'total_return': 19.870963288201303,\n",
       "  'annual_return': 3.789408017210283,\n",
       "  'avg_daily_return': 0.017053957125257823,\n",
       "  'return_std': 0.6858160366116869,\n",
       "  'drawdown_metrics': {'max_drawdown': -0.09236626854190899,\n",
       "   'avg_drawdown': -0.03641629392971807,\n",
       "   'max_drawdown_duration': 1116,\n",
       "   'avg_drawdown_duration': 556.5142857142857,\n",
       "   'drawdown_frequency': 0.9120521172638436},\n",
       "  'trade_metrics': {'total_trades': 142,\n",
       "   'win_rate': 0.7446808510638298,\n",
       "   'avg_trade_return': 0.00790958805039141,\n",
       "   'best_trade': 0.11980829620041078,\n",
       "   'worst_trade': -0.054145205372921446,\n",
       "   'avg_winning_trade': 0.014422411919526658,\n",
       "   'avg_losing_trade': -0.011086148234586389,\n",
       "   'profit_factor': 3.794407869036475},\n",
       "  'risk_metrics': {'sharpe_ratio': 0.21284636225136763,\n",
       "   'sortino_ratio': 0.11698626149927635,\n",
       "   'calmar_ratio': 0.46527777547006116,\n",
       "   'volatility': 0.10886992068086952,\n",
       "   'skewness': 5.780402843279058,\n",
       "   'kurtosis': 116.19864229621771,\n",
       "   'var_95': 0.0,\n",
       "   'cvar_95': -0.0006587836486394075,\n",
       "   'omega_ratio': 1.1736425650890454},\n",
       "  'timing_metrics': {'avg_monthly_return': 0.0038602801262502292,\n",
       "   'monthly_return_std': 0.042267606009206225,\n",
       "   'positive_months': 0.4576271186440678,\n",
       "   'avg_up_month': 0.02434218235322571,\n",
       "   'avg_down_month': -0.017179295843533223,\n",
       "   'avg_rolling_beta': nan,\n",
       "   'beta_std': nan,\n",
       "   'consecutive_wins': 2,\n",
       "   'consecutive_losses': 5}}}"
      ]
     },
     "execution_count": 6,
     "metadata": {},
     "output_type": "execute_result"
    }
   ],
   "source": [
    "# Get Performance Metrics for each strategy contained in the YAML Config file. \n",
    "backtest.get_performance_metrics()"
   ]
  },
  {
   "cell_type": "markdown",
   "metadata": {},
   "source": [
    "#### Results Breakdown\n",
    "\n",
    "##### 1. For the *Bollinger Portfolio* (best performer):\n",
    "\n",
    "**Return Metrics**:\n",
    "\n",
    "- Total Return: +19.87% (total profit)\n",
    "- Annual Return: +3.79% per year\n",
    "- Average Daily Return: +0.017% per day\n",
    "- Return Standard Deviation: 0.69% daily volatility\n",
    "\n",
    "\n",
    "**Trade Performance**:\n",
    "\n",
    "\n",
    "* Win Rate: 74.47% (percentage of profitable trades)\n",
    "* Total Trades: 142 trades\n",
    "* Best Trade: +11.98%\n",
    "* Worst Trade: -5.41%\n",
    "* Profit Factor: 3.79 (gross profits divided by gross losses - very good)\n",
    "\n",
    "\n",
    "**Risk Metrics**:\n",
    "\n",
    "\n",
    "* Sharpe Ratio: 0.21 (risk-adjusted returns - positive but low)\n",
    "* Maximum Drawdown: -9.24% (biggest peak-to-trough decline)\n",
    "* Value at Risk (95%): 0%\n",
    "* Volatility: 10.89% annualized\n",
    "\n",
    "##### 2. For the *RSI Tech Basket* (moderate performer):\n",
    "\n",
    "**Return Metrics**:\n",
    "\n",
    "\n",
    "- Total Return: +3.66%\n",
    "- Annual Return: +0.74%\n",
    "- Average Daily Return: +0.008%\n",
    "\n",
    "\n",
    "**Trade Performance**:\n",
    "\n",
    "\n",
    "* Win Rate: 69.52%\n",
    "* Total Trades: 188 trades\n",
    "* Best Trade: +9.31%\n",
    "* Worst Trade: -7.56%\n",
    "* Profit Factor: 2.42 (good)\n",
    "\n",
    "##### 3. For the MA Crossover AAPL (worst performer):\n",
    "\n",
    "**Return Metrics**:\n",
    "\n",
    "\n",
    "* Total Return: -6.77% (loss)\n",
    "* Annual Return: -1.43%\n",
    "* Average Daily Return: +0.012%\n",
    "\n",
    "\n",
    "**Trade Performance**:\n",
    "\n",
    "\n",
    "- Win Rate: 36% (poor)\n",
    "- Total Trades: 26 trades\n",
    "- Best Trade: +44.64%\n",
    "- Worst Trade: -17.58%\n",
    "- Profit Factor: 1.06 (barely profitable)\n",
    "\n",
    "The Bollinger Portfolio strategy performed best with:\n",
    "\n",
    "         Highest total return\n",
    "         Best win rate\n",
    "         Best profit factor\n",
    "         Smallest maximum drawdown\n",
    "         Most consistent performance metrics"
   ]
  },
  {
   "cell_type": "code",
   "execution_count": 7,
   "metadata": {},
   "outputs": [
    {
     "data": {
      "text/plain": [
       "['GOOGL', 'MSFT', 'AAPL']"
      ]
     },
     "execution_count": 7,
     "metadata": {},
     "output_type": "execute_result"
    }
   ],
   "source": [
    "backtest._get_all_symbols()"
   ]
  },
  {
   "cell_type": "code",
   "execution_count": 10,
   "metadata": {},
   "outputs": [
    {
     "data": {
      "text/plain": [
       "{'ma_crossover_aapl': <Strategy.MovingAverageCrossover at 0x137b39b50>,\n",
       " 'rsi_tech_basket': <Strategy.RSIStrategy at 0x1504ba4d0>,\n",
       " 'bollinger_portfolio': <Strategy.BollingerBandsStrategy at 0x150b8f5d0>}"
      ]
     },
     "execution_count": 10,
     "metadata": {},
     "output_type": "execute_result"
    }
   ],
   "source": [
    "backtest.strategies"
   ]
  },
  {
   "cell_type": "code",
   "execution_count": 11,
   "metadata": {},
   "outputs": [
    {
     "data": {
      "text/plain": [
       "{'data': {'universe': {'type': 'static', 'symbols': ['AAPL', 'MSFT', 'GOOGL']},\n",
       "  'parameters': {'interval': '1d',\n",
       "   'history_start': '2020-01-01',\n",
       "   'add_indicators': True,\n",
       "   'cache_data': True,\n",
       "   'adjustment': 'split+div'}},\n",
       " 'strategies': {'ma_crossover_aapl': {'type': 'MovingAverageCrossover',\n",
       "   'enabled': True,\n",
       "   'symbols': ['AAPL'],\n",
       "   'parameters': {'short_window': 20, 'long_window': 50}},\n",
       "  'rsi_tech_basket': {'type': 'RSIStrategy',\n",
       "   'enabled': True,\n",
       "   'symbols': ['MSFT', 'GOOGL'],\n",
       "   'parameters': {'period': 14, 'overbought': 70, 'oversold': 30}},\n",
       "  'bollinger_portfolio': {'type': 'BollingerBandsStrategy',\n",
       "   'enabled': True,\n",
       "   'symbols': ['AAPL', 'MSFT', 'GOOGL'],\n",
       "   'parameters': {'period': 20, 'std_dev': 2, 'mean_reversion': True}}},\n",
       " 'portfolio': {'initial_capital': 100000,\n",
       "  'position_sizing': {'method': 'equal',\n",
       "   'max_position_size': 0.2,\n",
       "   'max_correlation': 0.7},\n",
       "  'rebalancing': {'frequency': 'monthly', 'threshold': 0.05}},\n",
       " 'risk_management': {'max_portfolio_risk': 0.02,\n",
       "  'stop_loss': 0.02,\n",
       "  'trailing_stop': 0.015,\n",
       "  'take_profit': 0.04,\n",
       "  'max_drawdown_limit': 0.15,\n",
       "  'position_sizing_method': 'risk_parity'},\n",
       " 'execution': {'commission': 0.001,\n",
       "  'slippage': 0.001,\n",
       "  'minimum_order_size': 100,\n",
       "  'market_impact': 0.0002},\n",
       " 'reporting': {'frequency': 'daily',\n",
       "  'metrics': ['sharpe_ratio',\n",
       "   'sortino_ratio',\n",
       "   'max_drawdown',\n",
       "   'win_rate',\n",
       "   'profit_factor']}}"
      ]
     },
     "execution_count": 11,
     "metadata": {},
     "output_type": "execute_result"
    }
   ],
   "source": [
    "backtest.config"
   ]
  },
  {
   "cell_type": "code",
   "execution_count": null,
   "metadata": {},
   "outputs": [],
   "source": []
  }
 ],
 "metadata": {
  "kernelspec": {
   "display_name": "alpaca",
   "language": "python",
   "name": "python3"
  },
  "language_info": {
   "codemirror_mode": {
    "name": "ipython",
    "version": 3
   },
   "file_extension": ".py",
   "mimetype": "text/x-python",
   "name": "python",
   "nbconvert_exporter": "python",
   "pygments_lexer": "ipython3",
   "version": "3.11.10"
  }
 },
 "nbformat": 4,
 "nbformat_minor": 2
}
